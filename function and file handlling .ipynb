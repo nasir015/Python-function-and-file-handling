{
 "cells": [
  {
   "cell_type": "markdown",
   "metadata": {},
   "source": [
    "## i neoron function"
   ]
  },
  {
   "cell_type": "code",
   "execution_count": null,
   "metadata": {},
   "outputs": [],
   "source": [
    "def test(x,y):\n",
    "    print(x+y)"
   ]
  },
  {
   "cell_type": "code",
   "execution_count": null,
   "metadata": {},
   "outputs": [],
   "source": [
    "test(2,3)"
   ]
  },
  {
   "cell_type": "code",
   "execution_count": null,
   "metadata": {},
   "outputs": [],
   "source": [
    "test(4,9)"
   ]
  },
  {
   "cell_type": "code",
   "execution_count": null,
   "metadata": {},
   "outputs": [],
   "source": [
    "test(4,5)+1"
   ]
  },
  {
   "cell_type": "code",
   "execution_count": null,
   "metadata": {},
   "outputs": [],
   "source": [
    "def test1(x,y):\n",
    "    return x*y"
   ]
  },
  {
   "cell_type": "code",
   "execution_count": null,
   "metadata": {},
   "outputs": [],
   "source": [
    "test1(3,5)"
   ]
  },
  {
   "cell_type": "code",
   "execution_count": null,
   "metadata": {},
   "outputs": [],
   "source": [
    "test1(4,6)+1"
   ]
  },
  {
   "cell_type": "markdown",
   "metadata": {},
   "source": [
    "return and print both are use to print out output but print function is alwas none type and return function is alwas flexible that mens it change based on requirment."
   ]
  },
  {
   "cell_type": "code",
   "execution_count": null,
   "metadata": {},
   "outputs": [],
   "source": [
    "def test2(x,y,z):\n",
    "    return x*y"
   ]
  },
  {
   "cell_type": "code",
   "execution_count": null,
   "metadata": {},
   "outputs": [],
   "source": [
    "test2(3,5,6)"
   ]
  },
  {
   "cell_type": "code",
   "execution_count": null,
   "metadata": {},
   "outputs": [],
   "source": [
    "def test3 ( x, y):\n",
    "    return x*y, x**y, x+y"
   ]
  },
  {
   "cell_type": "code",
   "execution_count": null,
   "metadata": {},
   "outputs": [],
   "source": [
    "test3(10,20)"
   ]
  },
  {
   "cell_type": "code",
   "execution_count": null,
   "metadata": {},
   "outputs": [],
   "source": [
    "# aidoroner khetre a and b and c alada alada vabe denote kkora jay ai system e \n",
    "a,b,c = test3(10,20)"
   ]
  },
  {
   "cell_type": "code",
   "execution_count": null,
   "metadata": {},
   "outputs": [],
   "source": [
    "c"
   ]
  },
  {
   "cell_type": "code",
   "execution_count": null,
   "metadata": {},
   "outputs": [],
   "source": [
    "def test4(x):\n",
    "    return x,x*2"
   ]
  },
  {
   "cell_type": "code",
   "execution_count": null,
   "metadata": {},
   "outputs": [],
   "source": [
    "a = test4([1,2,3,4])\n",
    "print(a, type(a))"
   ]
  },
  {
   "cell_type": "code",
   "execution_count": null,
   "metadata": {},
   "outputs": [],
   "source": [
    "def test5(x,y=10):\n",
    "    return x+y\n",
    "test5(10)"
   ]
  },
  {
   "cell_type": "code",
   "execution_count": null,
   "metadata": {},
   "outputs": [],
   "source": [
    "def boolx(x = True,y = False):\n",
    "    return x+y\n",
    "boolx()"
   ]
  },
  {
   "cell_type": "code",
   "execution_count": null,
   "metadata": {},
   "outputs": [],
   "source": [
    "# args is a function that can take any number of arguments let's see how it works\n",
    "def test11(*args ,a):\n",
    "    return  args\n",
    "a=test11(1,2,3,4,5,6,7,8,9,10,'nasir','hossain',a =10)\n",
    "b = list(a)\n",
    "b"
   ]
  },
  {
   "cell_type": "code",
   "execution_count": null,
   "metadata": {},
   "outputs": [],
   "source": [
    "l = []\n",
    "def test12(*args):\n",
    "    \n",
    "    for i in args:\n",
    "        l.append(i)\n",
    "    return l\n",
    "\n"
   ]
  },
  {
   "cell_type": "code",
   "execution_count": null,
   "metadata": {},
   "outputs": [],
   "source": [
    "test12([1,2,3,4,5,6,7,8,9,10,'nasir','hossain'],[1,2,3,4,5,6,7,8,9,10,'nasir','hossain'],[1,2,3,4,5,6,7,8,9,10,'nasir','hossain'])"
   ]
  },
  {
   "cell_type": "code",
   "execution_count": null,
   "metadata": {},
   "outputs": [],
   "source": [
    "l"
   ]
  },
  {
   "cell_type": "code",
   "execution_count": null,
   "metadata": {},
   "outputs": [],
   "source": [
    "test12(['nasir'],['sumaiya'],['akter'],['bal'],['chal'],['dhal'],['eal'],['fal'],['gal'],['hal'],['ial'],['jal'],['kal'],['lal'],['mal'],['nal'],['oal'],['pal'],['qal'],['ral'],['sal'],['tal'],['ual'],['val'],['wal'],['xal'],['yal'],['zal'])"
   ]
  },
  {
   "cell_type": "code",
   "execution_count": null,
   "metadata": {},
   "outputs": [],
   "source": [
    "test12( [input('input as your requirement: ')])"
   ]
  },
  {
   "cell_type": "code",
   "execution_count": null,
   "metadata": {},
   "outputs": [],
   "source": [
    "def  bal(**kwargs):\n",
    "    return kwargs"
   ]
  },
  {
   "cell_type": "code",
   "execution_count": null,
   "metadata": {},
   "outputs": [],
   "source": [
    "bal(name = \"nasir\", age = 25, address = \"dhaka\")"
   ]
  },
  {
   "attachments": {},
   "cell_type": "markdown",
   "metadata": {},
   "source": [
    "assignment question solution"
   ]
  },
  {
   "cell_type": "code",
   "execution_count": null,
   "metadata": {},
   "outputs": [],
   "source": [
    "def test15(*args):\n",
    "    c={}\n",
    "    for i in args:\n",
    "        if type(i) in c :\n",
    "            c[type(i)].append(i)\n",
    "        \n",
    "        else:\n",
    "            c[type(i)]= [i]\n",
    "    return c\n"
   ]
  },
  {
   "cell_type": "code",
   "execution_count": null,
   "metadata": {},
   "outputs": [],
   "source": [
    "test15('naidr',12, ['nasid'],(20,),12.5, 5j+7)"
   ]
  },
  {
   "cell_type": "code",
   "execution_count": null,
   "metadata": {},
   "outputs": [],
   "source": [
    "def nasir(**kwargs):\n",
    "    return kwargs\n",
    "nasir(a =20)"
   ]
  },
  {
   "cell_type": "code",
   "execution_count": null,
   "metadata": {},
   "outputs": [],
   "source": [
    "def personal_info(name,age,city):\n",
    "    print('name is :',name)\n",
    "    print('age is :',age)\n",
    "    print('city is :',city)"
   ]
  },
  {
   "cell_type": "code",
   "execution_count": null,
   "metadata": {},
   "outputs": [],
   "source": [
    "personal_info('nasir',25,'dhaka')"
   ]
  },
  {
   "cell_type": "code",
   "execution_count": null,
   "metadata": {},
   "outputs": [],
   "source": [
    "#lamda function\n",
    "m =lambda x,y: x+y"
   ]
  },
  {
   "cell_type": "code",
   "execution_count": null,
   "metadata": {},
   "outputs": [],
   "source": [
    "m(2,8)"
   ]
  },
  {
   "cell_type": "code",
   "execution_count": null,
   "metadata": {},
   "outputs": [],
   "source": [
    "m('nasir  ', 'uddin')"
   ]
  },
  {
   "cell_type": "code",
   "execution_count": null,
   "metadata": {},
   "outputs": [],
   "source": [
    "a = 10\n",
    "b = 20\n",
    "c = lambda a,b: a+b"
   ]
  },
  {
   "cell_type": "code",
   "execution_count": null,
   "metadata": {},
   "outputs": [],
   "source": [
    "c(a,b)"
   ]
  },
  {
   "cell_type": "code",
   "execution_count": null,
   "metadata": {},
   "outputs": [],
   "source": [
    "l = []\n",
    "for i in range(10):\n",
    "    l.append(i**3)"
   ]
  },
  {
   "cell_type": "code",
   "execution_count": null,
   "metadata": {},
   "outputs": [],
   "source": [
    "def ten(n):\n",
    "    for i in range(n):\n",
    "        yield i**2"
   ]
  },
  {
   "cell_type": "code",
   "execution_count": null,
   "metadata": {},
   "outputs": [],
   "source": [
    "ten(5)"
   ]
  },
  {
   "cell_type": "code",
   "execution_count": null,
   "metadata": {},
   "outputs": [],
   "source": [
    "def genfib(n):\n",
    "    a = 1\n",
    "    b = 1\n",
    "    l = []\n",
    "    for i in range(5):\n",
    "        \n",
    "        l.append(a)\n",
    "        a,b = b,a+b\n",
    "    return l"
   ]
  },
  {
   "cell_type": "code",
   "execution_count": null,
   "metadata": {},
   "outputs": [],
   "source": [
    "genfib(5)"
   ]
  },
  {
   "cell_type": "code",
   "execution_count": null,
   "metadata": {},
   "outputs": [],
   "source": [
    "def nasir(n):\n",
    "    a = 1\n",
    "    b = 1\n",
    "    for i in range(n):\n",
    "        yield  a\n",
    "        a,b = b,a+b"
   ]
  },
  {
   "cell_type": "code",
   "execution_count": null,
   "metadata": {},
   "outputs": [],
   "source": [
    "nasir(6)"
   ]
  },
  {
   "cell_type": "code",
   "execution_count": null,
   "metadata": {},
   "outputs": [],
   "source": [
    "for i in nasir(20000):\n",
    "    print(i)"
   ]
  },
  {
   "cell_type": "code",
   "execution_count": null,
   "metadata": {},
   "outputs": [],
   "source": [
    "#file handling :\n",
    "#r = open for reading\n",
    "#w = open for writing truncating the file first \n",
    "#x = create a new file and open it for writing \n",
    "#a = open for wirting, appending to the end of the file if it exists \n",
    "#b = binary mode \n",
    "#t = text mode \n",
    "#+ = open a disk file for updating (reading and writing )\n",
    "#u = universal newline mode (deprecated) \n"
   ]
  },
  {
   "cell_type": "code",
   "execution_count": null,
   "metadata": {},
   "outputs": [],
   "source": [
    "a = open('nasir.txt','w')"
   ]
  },
  {
   "cell_type": "code",
   "execution_count": null,
   "metadata": {},
   "outputs": [],
   "source": [
    "a.write('nasir uddin')\n",
    "a.close()"
   ]
  },
  {
   "cell_type": "code",
   "execution_count": null,
   "metadata": {},
   "outputs": [],
   "source": [
    "a= open('nasir.txt','r')\n",
    "a.read()"
   ]
  },
  {
   "cell_type": "code",
   "execution_count": null,
   "metadata": {},
   "outputs": [],
   "source": [
    "\"\"\" aikhane prothom read operation perform \n",
    "korar por coursure file er pointer last e jay tai aitake \n",
    "a.seek(joto likhbe tototmo line e jabe ) diye pointer ta first e jay) tar por abar read kora jay\"\"\"\n",
    "a.seek(0)"
   ]
  },
  {
   "cell_type": "code",
   "execution_count": null,
   "metadata": {},
   "outputs": [],
   "source": [
    "a.read()"
   ]
  },
  {
   "cell_type": "code",
   "execution_count": null,
   "metadata": {},
   "outputs": [],
   "source": [
    "f = open('nasir.txt','a')\n",
    "f.write('sumaiya akter')\n",
    "f.close()"
   ]
  },
  {
   "cell_type": "code",
   "execution_count": null,
   "metadata": {},
   "outputs": [],
   "source": [
    "f = open('nasir.txt','r')\n",
    "f.read()\n",
    "f.seek(0)\n",
    "f.readlines()\n",
    "\n"
   ]
  },
  {
   "cell_type": "code",
   "execution_count": null,
   "metadata": {},
   "outputs": [],
   "source": [
    "# Proti file alada kore run korar jonno ai readline bebohar kora jay\n",
    "f = open('nasir.txt','r')\n",
    "f.readline()\n"
   ]
  },
  {
   "cell_type": "code",
   "execution_count": 8,
   "metadata": {},
   "outputs": [],
   "source": [
    "f = open('nasir1.txt','w')\n",
    "f.write ('ansif akdfwd safjjf ajfoijfjf fjoierja ioei iroe ioerirei')\n",
    "f.close()\n"
   ]
  },
  {
   "cell_type": "code",
   "execution_count": 10,
   "metadata": {},
   "outputs": [
    {
     "name": "stdout",
     "output_type": "stream",
     "text": [
      "ansif akdfwd safjjf ajfoijfjf fjoierja ioei iroe ioerirei\n"
     ]
    }
   ],
   "source": [
    "f = open('nasir1.txt','r')\n",
    "for i in f:\n",
    "    print(i)"
   ]
  },
  {
   "cell_type": "code",
   "execution_count": 18,
   "metadata": {},
   "outputs": [
    {
     "data": {
      "text/plain": [
       "45"
      ]
     },
     "execution_count": 18,
     "metadata": {},
     "output_type": "execute_result"
    }
   ],
   "source": [
    "f = open ('nasir1.txt','r+')\n",
    "\n",
    "f.write('asfnlsfsjfsdjkfajkdhflsjkdhkkjaslhfjhdlkajshd')\n"
   ]
  },
  {
   "cell_type": "code",
   "execution_count": 20,
   "metadata": {},
   "outputs": [
    {
     "data": {
      "text/plain": [
       "''"
      ]
     },
     "execution_count": 20,
     "metadata": {},
     "output_type": "execute_result"
    }
   ],
   "source": [
    "f.read()"
   ]
  },
  {
   "cell_type": "code",
   "execution_count": 23,
   "metadata": {},
   "outputs": [
    {
     "data": {
      "text/plain": [
       "42"
      ]
     },
     "execution_count": 23,
     "metadata": {},
     "output_type": "execute_result"
    }
   ],
   "source": [
    "f.write('noakhali science and technology university')"
   ]
  },
  {
   "cell_type": "code",
   "execution_count": 2,
   "metadata": {},
   "outputs": [
    {
     "name": "stdout",
     "output_type": "stream",
     "text": [
      "asfnlsfsjfsdjkfajkdhflsjkdhkkjaslhfjhdlkajshdroe ioerireiasfnlsfsjfsdjkfajkdhflsjkdhkkjaslhfjhdlkajshdnoakhali science and technology universitynoakhali science and technology universitynoakhali science and technology university\n"
     ]
    }
   ],
   "source": [
    "f = open('nasir1.txt','r+')\n",
    "for i in f:\n",
    "    print(i)"
   ]
  },
  {
   "cell_type": "code",
   "execution_count": 2,
   "metadata": {},
   "outputs": [],
   "source": [
    "import os"
   ]
  },
  {
   "cell_type": "code",
   "execution_count": 4,
   "metadata": {},
   "outputs": [
    {
     "data": {
      "text/plain": [
       "'e:\\\\Neoron\\\\Programming Practice'"
      ]
     },
     "execution_count": 4,
     "metadata": {},
     "output_type": "execute_result"
    }
   ],
   "source": [
    "pwd()"
   ]
  },
  {
   "cell_type": "code",
   "execution_count": 5,
   "metadata": {},
   "outputs": [
    {
     "data": {
      "text/plain": [
       "'e:\\\\Neoron\\\\Programming Practice'"
      ]
     },
     "execution_count": 5,
     "metadata": {},
     "output_type": "execute_result"
    }
   ],
   "source": [
    "os.getcwd()"
   ]
  },
  {
   "cell_type": "code",
   "execution_count": 3,
   "metadata": {},
   "outputs": [
    {
     "data": {
      "text/plain": [
       "['.git',\n",
       " '.vscode',\n",
       " 'Basic.py',\n",
       " 'frist_module.py',\n",
       " 'function.ipynb',\n",
       " 'i neoron practice.ipynb',\n",
       " 'index.html',\n",
       " 'nasir.txt',\n",
       " 'nasir1.txt',\n",
       " 'object oriented programming.py',\n",
       " 'Practice.ipynb',\n",
       " 'Secound_module.py',\n",
       " 'tempCodeRunnerFile.py',\n",
       " 'udemy solution.ipynb']"
      ]
     },
     "execution_count": 3,
     "metadata": {},
     "output_type": "execute_result"
    }
   ],
   "source": [
    "os.listdir()\n"
   ]
  },
  {
   "cell_type": "code",
   "execution_count": 4,
   "metadata": {},
   "outputs": [],
   "source": [
    "os.chdir('e:\\\\Neoron')"
   ]
  },
  {
   "cell_type": "code",
   "execution_count": 5,
   "metadata": {},
   "outputs": [
    {
     "data": {
      "text/plain": [
       "'e:\\\\Neoron'"
      ]
     },
     "execution_count": 5,
     "metadata": {},
     "output_type": "execute_result"
    }
   ],
   "source": [
    "os.getcwd()"
   ]
  },
  {
   "cell_type": "code",
   "execution_count": 6,
   "metadata": {},
   "outputs": [],
   "source": [
    "os.chdir('e:\\\\Neoron\\\\Programming Practice')"
   ]
  },
  {
   "cell_type": "code",
   "execution_count": 8,
   "metadata": {},
   "outputs": [
    {
     "data": {
      "text/plain": [
       "'e:\\\\Neoron\\\\Programming Practice'"
      ]
     },
     "execution_count": 8,
     "metadata": {},
     "output_type": "execute_result"
    }
   ],
   "source": [
    "os.getcwd()"
   ]
  },
  {
   "cell_type": "code",
   "execution_count": 13,
   "metadata": {},
   "outputs": [
    {
     "name": "stdout",
     "output_type": "stream",
     "text": [
      "asfnlsfsjfsdjkfajkdhflsjkdhkkjaslhfjhdlkajshdroe ioerireiasfnlsfsjfsdjkfajkdhflsjkdhkkjaslhfjhdlkajshdnoakhali science and technology universitynoakhali science and technology universitynoakhali science and technology university\n"
     ]
    }
   ],
   "source": [
    "if 'nasir1.txt' in os.listdir():\n",
    "    f = open('nasir1.txt','r+')\n",
    "    print(f.read())\n",
    "else:\n",
    "    print('file not found')"
   ]
  },
  {
   "cell_type": "code",
   "execution_count": 34,
   "metadata": {},
   "outputs": [],
   "source": [
    "j = []\n",
    "l = []\n",
    "for i in os.listdir():\n",
    "    if i.endswith('.txt'):\n",
    "        l.append(i)\n",
    "for i in l:\n",
    "    f = open(i,'r+')\n",
    "    j.append(f.read())"
   ]
  },
  {
   "cell_type": "code",
   "execution_count": 35,
   "metadata": {},
   "outputs": [
    {
     "data": {
      "text/plain": [
       "['nasir.txt', 'nasir1.txt']"
      ]
     },
     "execution_count": 35,
     "metadata": {},
     "output_type": "execute_result"
    }
   ],
   "source": [
    "l\n",
    "\n"
   ]
  },
  {
   "cell_type": "code",
   "execution_count": 36,
   "metadata": {},
   "outputs": [
    {
     "data": {
      "text/plain": [
       "['nasir uddinnasir uddinsumaiya aktersumaiya akter',\n",
       " 'asfnlsfsjfsdjkfajkdhflsjkdhkkjaslhfjhdlkajshdroe ioerireiasfnlsfsjfsdjkfajkdhflsjkdhkkjaslhfjhdlkajshdnoakhali science and technology universitynoakhali science and technology universitynoakhali science and technology university']"
      ]
     },
     "execution_count": 36,
     "metadata": {},
     "output_type": "execute_result"
    }
   ],
   "source": [
    "j"
   ]
  },
  {
   "cell_type": "code",
   "execution_count": 37,
   "metadata": {},
   "outputs": [],
   "source": [
    "#cheek file is it current directory or not if not then create a new file\n",
    "if  not os.path.exists('nasir3.txt'):\n",
    "    f = open('nasir3.txt','w')\n",
    "    f.write('nasir uddin')\n",
    "    f.close()\n",
    "else:\n",
    "    print('file already exists')"
   ]
  },
  {
   "cell_type": "code",
   "execution_count": 39,
   "metadata": {},
   "outputs": [
    {
     "data": {
      "text/plain": [
       "210"
      ]
     },
     "execution_count": 39,
     "metadata": {},
     "output_type": "execute_result"
    }
   ],
   "source": [
    "f= open('nasir3.txt','r+')\n",
    "f.write('nsir \\n  uddin \\n  sumaiya \\n  akter \\n  bal \\n  chal \\n  dhal \\n  eal \\n  fal \\n  gal \\n  hal \\n  ial \\n  jal \\n  kal \\n  lal \\n  mal \\n  nal \\n  oal \\n  pal \\n  qal \\n  ral \\n  sal \\n  tal \\n  ual \\n  val \\n  wal \\n  xal \\n  yal \\n  zal')"
   ]
  },
  {
   "cell_type": "code",
   "execution_count": 43,
   "metadata": {},
   "outputs": [
    {
     "name": "stdout",
     "output_type": "stream",
     "text": [
      "nsir \n",
      "\n",
      "  uddin \n",
      "\n",
      "  sumaiya \n",
      "\n",
      "  akter \n",
      "\n",
      "  bal \n",
      "\n",
      "  chal \n",
      "\n",
      "  dhal \n",
      "\n",
      "  eal \n",
      "\n",
      "  fal \n",
      "\n",
      "  gal \n",
      "\n",
      "  hal \n",
      "\n",
      "  ial \n",
      "\n",
      "  jal \n",
      "\n",
      "  kal \n",
      "\n",
      "  lal \n",
      "\n",
      "  mal \n",
      "\n",
      "  nal \n",
      "\n",
      "  oal \n",
      "\n",
      "  pal \n",
      "\n",
      "  qal \n",
      "\n",
      "  ral \n",
      "\n",
      "  sal \n",
      "\n",
      "  tal \n",
      "\n",
      "  ual \n",
      "\n",
      "  val \n",
      "\n",
      "  wal \n",
      "\n",
      "  xal \n",
      "\n",
      "  yal \n",
      "\n",
      "  zal\n"
     ]
    }
   ],
   "source": [
    "f = open('nasir3.txt','r+')\n",
    "for i in f:\n",
    "    print(i)"
   ]
  },
  {
   "attachments": {},
   "cell_type": "markdown",
   "metadata": {},
   "source": [
    "## Challange "
   ]
  },
  {
   "cell_type": "code",
   "execution_count": 44,
   "metadata": {},
   "outputs": [],
   "source": [
    "#create a new directory\n",
    "import os\n",
    "os.mkdir('nasir')"
   ]
  },
  {
   "cell_type": "code",
   "execution_count": 68,
   "metadata": {},
   "outputs": [],
   "source": [
    "q = []\n",
    "l = []\n",
    "i = 0\n",
    "while i<10:\n",
    "    open('nasir\\\\nasir'+str(i)+'.txt','w')\n",
    "    f = open('nasir\\\\nasir'+str(i)+'.txt','r+')\n",
    "    f.write('nasir uddin')\n",
    "    i = i+1\n",
    "for i in os.listdir('nasir'):\n",
    "    if i.endswith('.txt'):\n",
    "        l.append(i)\n",
    "for i in l:\n",
    "    f = open('nasir\\\\'+i,'r+')\n",
    "    q.append(f.read())\n",
    "p = open('nasir\\\\nasir10.txt','w')\n",
    "for i in q:\n",
    "    p= open('nasir\\\\nasir10.txt','a')\n",
    "    p.write(i)"
   ]
  }
 ],
 "metadata": {
  "kernelspec": {
   "display_name": "Python 3.10.5 64-bit",
   "language": "python",
   "name": "python3"
  },
  "language_info": {
   "codemirror_mode": {
    "name": "ipython",
    "version": 3
   },
   "file_extension": ".py",
   "mimetype": "text/x-python",
   "name": "python",
   "nbconvert_exporter": "python",
   "pygments_lexer": "ipython3",
   "version": "3.10.5"
  },
  "orig_nbformat": 4,
  "vscode": {
   "interpreter": {
    "hash": "0688fda938737e2d5a0e5dcab181b8ad9bfe817b9af13ca473832c5ae105f5f8"
   }
  }
 },
 "nbformat": 4,
 "nbformat_minor": 2
}
